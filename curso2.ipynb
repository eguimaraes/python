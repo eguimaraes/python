{
 "cells": [
  {
   "cell_type": "markdown",
   "metadata": {},
   "source": [
    "# Curso de Introdução ao Python #\n",
    "---\n"
   ]
  },
  {
   "cell_type": "markdown",
   "metadata": {},
   "source": [
    "### ***1.Uma visão geral do Python, sua história e seus usos*** ###\n",
    "Python é uma linguagem de programação de alto nível, interpretada, de script, imperativa, orientada a objetos, funcional, de tipagem dinâmica e forte. \n",
    "\n",
    "Foi criada por Guido van Rossum durante 1985-1990.\n",
    "\n",
    "Aqui estão alguns pontos importantes sobre o Python:\n",
    "\n",
    "* **Fácil de aprender:** Python tem uma sintaxe simples que torna a linguagem fácil de aprender.\n",
    "\n",
    "* **Linguagem de alto nível:** Quando escrevemos programas em Python, não precisamos lembrar da estrutura do sistema e gerenciar a memória, o que é uma vantagem sobre as linguagens de programação de baixo nível.\n",
    "\n",
    "* **Interpretada:** Python é uma linguagem interpretada, o que significa que o código Python é executado linha por linha, o que torna a depuração mais fácil.\n",
    "\n",
    "* **Dinamicamente tipada:** No Python, não precisamos declarar o tipo de variável, podemos diretamente usar a variável onde quer que seja necessária.\n",
    "\n",
    "**Ampla aplicabilidade:** Devido à sua simplicidade e elegância, o Python é amplamente utilizado em muitos campos, incluindo desenvolvimento web, automação, ciência de dados, aprendizado de máquina e inteligência artificial.\n",
    "\n",
    "**A filosofia do Python é enfatizada em um documento conhecido como Zen do Python, que inclui aforismos como “A legibilidade conta”, “Explícito é melhor que implícito” e “Simples é melhor que complexo”.**"
   ]
  },
  {
   "cell_type": "markdown",
   "metadata": {},
   "source": [
    "### ***2.Instalação do Python e configuração do ambiente de desenvolvimento*** ###\n",
    "Como instalar Python e configurar um ambiente de desenvolvimento usando um editor de texto e um terminal.\n"
   ]
  },
  {
   "cell_type": "markdown",
   "metadata": {},
   "source": [
    "#### ***Executando seu primeiro programa Python*** ####\n",
    "Escrevendo e executando seu primeiro programa Python."
   ]
  },
  {
   "cell_type": "code",
   "execution_count": 14,
   "metadata": {},
   "outputs": [
    {
     "name": "stdout",
     "output_type": "stream",
     "text": [
      "Olá Mundo\n"
     ]
    }
   ],
   "source": [
    "print(\"Olá Mundo\")"
   ]
  },
  {
   "cell_type": "markdown",
   "metadata": {},
   "source": [
    "\n",
    "### ***2.Fundamentos do Python*** ###\n"
   ]
  },
  {
   "cell_type": "markdown",
   "metadata": {},
   "source": [
    "\n",
    "#### ***Variáveis e tipos de dados*** ####\n"
   ]
  },
  {
   "cell_type": "markdown",
   "metadata": {},
   "source": [
    "#### Introdução a variáveis, atribuição de valores e os diferentes tipos de dados em Python ###\n",
    "---"
   ]
  },
  {
   "cell_type": "markdown",
   "metadata": {},
   "source": [
    "\n",
    "Definições de variáveis em Python A base de qualquer linguagem de programação é o conceito de variável, um nome ou lugar na memória que reservamos para que receba um valor. Em Python, usamos esta sintaxe para criar uma variável e atribuir a ela um valor1:\n",
    "\n",
    "nome_da_variavel = valor\n",
    "\n",
    "idade = 56\n",
    "\n",
    "nome = \"Nora\"\n",
    "\n",
    "cor = \"Azul\"\n",
    "\n",
    "notas = [67, 100, 87, 56]\n"
   ]
  },
  {
   "cell_type": "markdown",
   "metadata": {},
   "source": [
    "\n",
    "##### *Programa Hello World! em Python* #####\n",
    "\n",
    "\n",
    "\n",
    "Antes de nos aprofundarmos nos tipos e nas estruturas de dados que podem ser usados em Python, vejamos como podemos escrever nosso primeiro programa em Python1. Você precisa apenas chamar a função print() e escrever “Hello World!” entre parênteses:\n",
    "Python\n",
    "\n",
    "print(\"Hello World!\")\n",
    "\n"
   ]
  },
  {
   "cell_type": "code",
   "execution_count": 15,
   "metadata": {},
   "outputs": [
    {
     "name": "stdout",
     "output_type": "stream",
     "text": [
      "Hello World!\n"
     ]
    }
   ],
   "source": [
    "print(\"Hello World!\")"
   ]
  },
  {
   "cell_type": "markdown",
   "metadata": {},
   "source": [
    "***Tipos de dados e estruturas de dados integradas em Python***\n",
    "\n",
    "Temos vários tipos básicos de dados e estruturas de dados integradas com as quais podemos trabalhar em nossos programas.\n",
    "\n",
    "Agora, vamos ver um exemplo mais complexo, um programa que calcula a média das notas:"
   ]
  },
  {
   "cell_type": "code",
   "execution_count": 30,
   "metadata": {},
   "outputs": [
    {
     "name": "stdout",
     "output_type": "stream",
     "text": [
      "A média das notas é: 77.5\n"
     ]
    }
   ],
   "source": [
    "notas = [67, 100, 87, 56]  # Uma lista de notas\n",
    "\n",
    "soma = sum(notas)  # Soma todas as notas\n",
    "\n",
    "media = soma / len(notas)  # Calcula a média\n",
    "\n",
    "print(\"A média das notas é:\", media)\n"
   ]
  },
  {
   "cell_type": "markdown",
   "metadata": {},
   "source": [
    "Este programa:\n",
    "* Cria uma lista de notas. \n",
    "\n",
    "* Usa a função sum() para somar todas as notas na lista.\n",
    "\n",
    "* Divide essa soma pelo número de notas (obtido usando len(notas)) para calcular a média. \n",
    "\n",
    "* Imprime a média"
   ]
  },
  {
   "cell_type": "markdown",
   "metadata": {},
   "source": [
    "***Operadores aritméticos, de comparação e lógicos.***"
   ]
  },
  {
   "cell_type": "code",
   "execution_count": 27,
   "metadata": {},
   "outputs": [
    {
     "name": "stdout",
     "output_type": "stream",
     "text": [
      "30\n",
      "-10\n",
      "200\n",
      "0.5\n",
      "10\n",
      "100000000000000000000\n"
     ]
    }
   ],
   "source": [
    "a = 10\n",
    "b = 20\n",
    "\n",
    "print(a + b)  # Adição, imprime 30\n",
    "print(a - b)  # Subtração, imprime -10\n",
    "print(a * b)  # Multiplicação, imprime 200\n",
    "print(a / b)  # Divisão, imprime 0.5\n",
    "print(a % b)  # Módulo, imprime 10\n",
    "print(a ** b) # Exponenciação, imprime 10^20\n"
   ]
  },
  {
   "cell_type": "markdown",
   "metadata": {},
   "source": [
    "***Operadores de Comparação*** \n",
    "\n",
    "São usados para comparar valores. Por exemplo, igual a, não igual a, maior que, menor que, etc. \n",
    "Exemplo:"
   ]
  },
  {
   "cell_type": "code",
   "execution_count": 18,
   "metadata": {},
   "outputs": [
    {
     "name": "stdout",
     "output_type": "stream",
     "text": [
      "False\n",
      "True\n",
      "True\n",
      "False\n",
      "True\n",
      "False\n"
     ]
    }
   ],
   "source": [
    "a = 10\n",
    "b = 20\n",
    "\n",
    "print(a == b)  # Igual a, imprime False\n",
    "print(a != b)  # Não igual a, imprime True\n",
    "print(a < b)   # Menor que, imprime True\n",
    "print(a > b)   # Maior que, imprime False\n",
    "print(a <= b)  # Menor ou igual a, imprime True\n",
    "print(a >= b)  # Maior ou igual a, imprime False\n"
   ]
  },
  {
   "cell_type": "markdown",
   "metadata": {},
   "source": [
    "***Operadores Lógicos***\n",
    "\n",
    "São usados para combinar declarações condicionais. Incluem and, or e not. \n",
    "Exemplo:"
   ]
  },
  {
   "cell_type": "code",
   "execution_count": 19,
   "metadata": {},
   "outputs": [
    {
     "name": "stdout",
     "output_type": "stream",
     "text": [
      "False\n",
      "True\n",
      "False\n"
     ]
    }
   ],
   "source": [
    "a = True\n",
    "b = False\n",
    "\n",
    "print(a and b)  # AND lógico, imprime False\n",
    "print(a or b)   # OR lógico, imprime True\n",
    "print(not a)    # NOT lógico, imprime False\n"
   ]
  },
  {
   "cell_type": "markdown",
   "metadata": {},
   "source": [
    "***Saída de Dados***\n",
    "\n",
    "Em Python, usamos a função print() para exibir a saída de dados.\n",
    "\n",
    "Você pode passar um ou mais argumentos para a função print(), e ela imprimirá todos, separados por um espaço. \n",
    "\n",
    "Exemplo:"
   ]
  },
  {
   "cell_type": "code",
   "execution_count": null,
   "metadata": {},
   "outputs": [],
   "source": [
    "print(\"Olá, Mundo!\")\n",
    "nome = \"Maria\"\n",
    "print(\"Olá,\", nome)"
   ]
  },
  {
   "cell_type": "markdown",
   "metadata": {},
   "source": [
    "* No primeiro exemplo, estamos imprimindo uma string simples.\n",
    "\n",
    "* No segundo exemplo, estamos imprimindo uma string seguida por uma variável.\n",
    "\n",
    "*A função print() automaticamente coloca um espaço entre os argumentos que recebe.*"
   ]
  },
  {
   "cell_type": "markdown",
   "metadata": {},
   "source": [
    "***Entrada de Dados***\n",
    "\n",
    "Para receber a entrada do usuário em Python, usamos a função input().\n",
    "\n",
    "Esta função pausa a execução do programa e espera o usuário digitar algum texto.\n",
    "\n",
    "Quando o usuário pressiona Enter, a função input() retorna o texto digitado pelo usuário como uma string.\n",
    "\n",
    "Exemplo:"
   ]
  },
  {
   "cell_type": "code",
   "execution_count": null,
   "metadata": {},
   "outputs": [],
   "source": [
    "nome = input(\"Digite seu nome: \")\n",
    "print(\"Olá,\", nome)"
   ]
  },
  {
   "cell_type": "markdown",
   "metadata": {},
   "source": [
    "Neste exemplo, o programa pede ao usuário para digitar seu nome.\n",
    "\n",
    "O texto digitado pelo usuário é então armazenado na variável nome, e então imprimimos uma saudação que inclui o nome que o usuário digitou."
   ]
  },
  {
   "cell_type": "markdown",
   "metadata": {},
   "source": [
    "***Controle de fluxo: Instruções condicionais (if, elif, else) e loops (for, while)***\n",
    "\n",
    "Instruções Condicionais (if, elif, else) As instruções condicionais são usadas para executar diferentes blocos de código com base em diferentes condições. \n",
    "\n",
    "Exemplo:"
   ]
  },
  {
   "cell_type": "code",
   "execution_count": null,
   "metadata": {},
   "outputs": [],
   "source": [
    "idade = 20\n",
    "if idade < 18:\n",
    "    print(\"Menor de idade\")\n",
    "elif idade >= 18 and idade < 60:\n",
    "    print(\"Adulto\")\n",
    "else:\n",
    "    print(\"Idoso\")\n"
   ]
  },
  {
   "cell_type": "markdown",
   "metadata": {},
   "source": [
    "No exemplo acima, se a idade for menor que 18, o programa imprimirá “Menor de idade”. \n",
    "\n",
    "Se a idade for entre 18 e 60, imprimirá “Adulto”. Caso contrário, imprimirá “Idoso”."
   ]
  },
  {
   "cell_type": "markdown",
   "metadata": {},
   "source": [
    "***Loop For***\n",
    "\n",
    "O loop for é usado para iterar sobre uma sequência (como uma lista, tupla, dicionário, conjunto ou string) ou um iterador.\n",
    "\n",
    "Exemplo:"
   ]
  },
  {
   "cell_type": "code",
   "execution_count": 22,
   "metadata": {},
   "outputs": [
    {
     "name": "stdout",
     "output_type": "stream",
     "text": [
      "0\n",
      "1\n",
      "2\n",
      "3\n",
      "4\n"
     ]
    }
   ],
   "source": [
    "for i in range(5):\n",
    "    print(i)"
   ]
  },
  {
   "cell_type": "markdown",
   "metadata": {},
   "source": [
    "No exemplo acima, o programa imprimirá os números de 0 a 4. \n",
    "\n",
    "A função range(5) gera uma sequência de números de 0 a "
   ]
  },
  {
   "cell_type": "markdown",
   "metadata": {},
   "source": [
    "***Loop While***\n",
    "\n",
    "O loop while é usado para repetir um bloco de código enquanto uma condição for verdadeira.\n",
    "\n",
    "Exemplo:"
   ]
  },
  {
   "cell_type": "code",
   "execution_count": 24,
   "metadata": {},
   "outputs": [
    {
     "name": "stdout",
     "output_type": "stream",
     "text": [
      "0\n",
      "1\n",
      "2\n",
      "3\n",
      "4\n"
     ]
    }
   ],
   "source": [
    "i = 0\n",
    "while i < 5:\n",
    "    print(i)\n",
    "    i += 1"
   ]
  },
  {
   "cell_type": "markdown",
   "metadata": {},
   "source": [
    "No exemplo acima, o programa imprimirá os números de 0 a 4.\n",
    "\n",
    "O loop continua enquanto i for menor que 5, e i é incrementado em cada iteração."
   ]
  },
  {
   "cell_type": "markdown",
   "metadata": {},
   "source": [
    "### ***Funções*** ###"
   ]
  },
  {
   "cell_type": "markdown",
   "metadata": {},
   "source": [
    "\n",
    "****Definindo funções****\n",
    "\n",
    "Como definir suas próprias funções, passar parâmetros e retornar valores.\n",
    "\n",
    "Em Python, usamos a palavra-chave def para definir uma função.\n",
    "\n",
    "A sintaxe é a seguinte:\n"
   ]
  },
  {
   "cell_type": "code",
   "execution_count": null,
   "metadata": {},
   "outputs": [],
   "source": [
    "def nome_da_funcao():\n",
    "    # corpo da função"
   ]
  },
  {
   "cell_type": "markdown",
   "metadata": {},
   "source": [
    "Aqui está um exemplo de uma função simples que imprime “Olá, Mundo!”:"
   ]
  },
  {
   "cell_type": "code",
   "execution_count": 20,
   "metadata": {},
   "outputs": [],
   "source": [
    "def saudacao():\n",
    "    print(\"Olá, Mundo!\")\n"
   ]
  },
  {
   "cell_type": "markdown",
   "metadata": {},
   "source": [
    "Para chamar essa função, você usaria saudacao()."
   ]
  },
  {
   "cell_type": "code",
   "execution_count": 21,
   "metadata": {},
   "outputs": [
    {
     "name": "stdout",
     "output_type": "stream",
     "text": [
      "Olá, Mundo!\n"
     ]
    }
   ],
   "source": [
    "saudacao()"
   ]
  },
  {
   "cell_type": "markdown",
   "metadata": {},
   "source": [
    "***Passando Parâmetros***\n",
    "\n",
    "As funções podem receber parâmetros, que são valores que você pode passar para a função. \n",
    "\n",
    "Os parâmetros são definidos entre parênteses na definição da função.\n",
    "\n",
    "Aqui está um exemplo de uma função que recebe um nome como parâmetro e imprime uma saudação personalizada:"
   ]
  },
  {
   "cell_type": "code",
   "execution_count": null,
   "metadata": {},
   "outputs": [],
   "source": [
    "def saudacao(nome):\n",
    "    print(\"Olá,\", nome)\n"
   ]
  },
  {
   "cell_type": "markdown",
   "metadata": {},
   "source": [
    "Para chamar essa função, você passaria o nome como argumento, como em saudacao(\"Maria\")."
   ]
  },
  {
   "cell_type": "markdown",
   "metadata": {},
   "source": [
    "***Retornando Valores*** \n",
    "\n",
    "As funções podem retornar valores usando a palavra-chave return.\n",
    "\n",
    "Isso permite que você use o resultado da função em outras partes do seu código. Aqui está um exemplo de uma função que recebe dois números e retorna a soma deles:"
   ]
  },
  {
   "cell_type": "code",
   "execution_count": null,
   "metadata": {},
   "outputs": [],
   "source": [
    "def soma(a, b):\n",
    "    return a + b\n"
   ]
  },
  {
   "cell_type": "markdown",
   "metadata": {},
   "source": [
    "Você pode usar o resultado dessa função assim: resultado = soma(5, 3)."
   ]
  },
  {
   "cell_type": "markdown",
   "metadata": {},
   "source": [
    "**Diferença entre argumentos e parâmetros**\n",
    "\n",
    "Em Python, um parâmetro é a variável listada dentro dos parênteses na definição de função, enquanto um argumento é o valor que é enviado para a função quando ela é chamada.\n",
    "\n",
    "Exemplo:\n"
   ]
  },
  {
   "cell_type": "code",
   "execution_count": 26,
   "metadata": {},
   "outputs": [
    {
     "name": "stdout",
     "output_type": "stream",
     "text": [
      "Olá, Maria\n"
     ]
    }
   ],
   "source": [
    "def saudacao(nome):  # 'nome' é um parâmetro\n",
    "    print(\"Olá,\", nome)\n",
    "\n",
    "saudacao(\"Maria\")  # 'Maria' é um argumento\n"
   ]
  },
  {
   "cell_type": "markdown",
   "metadata": {},
   "source": [
    "\n",
    "***Funções Nativas do Python:***\n",
    "\n",
    " Uma visão geral das funções nativas em Python, como len, type, str, input, etc.\n"
   ]
  },
  {
   "cell_type": "markdown",
   "metadata": {},
   "source": [
    "***len()***\n",
    "\n",
    "Esta função retorna o número de itens em um objeto.\n",
    "\n",
    "Quando você passa uma string para a função len(), ela retorna o número de caracteres na string.\n",
    "Exemplo:"
   ]
  },
  {
   "cell_type": "code",
   "execution_count": null,
   "metadata": {},
   "outputs": [],
   "source": [
    "print(len(\"Olá, Mundo!\"))  # Imprime 11"
   ]
  },
  {
   "cell_type": "markdown",
   "metadata": {},
   "source": [
    "***type()***\n",
    "\n",
    "Esta função retorna o tipo do objeto passado.\n",
    "\n",
    "Pode ser usado para determinar o tipo de dados de uma variável.\n",
    "\n",
    "Exemplo:"
   ]
  },
  {
   "cell_type": "code",
   "execution_count": null,
   "metadata": {},
   "outputs": [],
   "source": [
    "print(type(123))  # Imprime <class 'int'>\n",
    "print(type(\"Olá, Mundo!\"))  # Imprime <class 'str'>"
   ]
  },
  {
   "cell_type": "markdown",
   "metadata": {},
   "source": [
    "***str()***\n",
    "\n",
    "Esta função converte o valor especificado em uma string.\n",
    "\n",
    "Exemplo:"
   ]
  },
  {
   "cell_type": "code",
   "execution_count": null,
   "metadata": {},
   "outputs": [],
   "source": [
    "numero = 123\n",
    "print(type(numero))  # Imprime <class 'int'>\n",
    "numero_str = str(numero)\n",
    "print(type(numero_str))  # Imprime <class 'str'>"
   ]
  },
  {
   "cell_type": "markdown",
   "metadata": {},
   "source": [
    "### ***Estruturas de Dados*** ###\n"
   ]
  },
  {
   "cell_type": "markdown",
   "metadata": {},
   "source": [
    "#### ***Listas*** ####"
   ]
  },
  {
   "cell_type": "markdown",
   "metadata": {},
   "source": [
    "\n"
   ]
  },
  {
   "cell_type": "markdown",
   "metadata": {},
   "source": [
    "****Como criar, acessar, modificar e iterar sobre listas.**** \n",
    "\n"
   ]
  },
  {
   "cell_type": "markdown",
   "metadata": {},
   "source": [
    "***Criando Listas***\n",
    "\n",
    "As listas são criadas colocando uma sequência de valores separados por vírgulas entre colchetes [].\n",
    "\n",
    "Exemplo:"
   ]
  },
  {
   "cell_type": "code",
   "execution_count": 29,
   "metadata": {},
   "outputs": [
    {
     "name": "stdout",
     "output_type": "stream",
     "text": [
      "[1, 2, 3, 4, 5]\n"
     ]
    }
   ],
   "source": [
    "lista = [1, 2, 3, 4, 5]\n",
    "print(lista)  # Imprime [1, 2, 3, 4, 5]"
   ]
  },
  {
   "cell_type": "markdown",
   "metadata": {},
   "source": [
    "***Acessando Elementos da Lista***\n",
    "\n",
    "Você pode acessar elementos da lista referindo-se ao índice do elemento\n",
    "\n",
    "Lembre-se, a indexação em Python começa em 0. \n",
    "\n",
    "Exemplo:"
   ]
  },
  {
   "cell_type": "code",
   "execution_count": null,
   "metadata": {},
   "outputs": [],
   "source": [
    "lista = [1, 2, 3, 4, 5]\n",
    "print(lista[0])  # Imprime 1\n",
    "print(lista[2])  # Imprime 3"
   ]
  },
  {
   "cell_type": "markdown",
   "metadata": {},
   "source": [
    "***Métodos de lista como append, remove, sort, etc.***\n"
   ]
  },
  {
   "cell_type": "markdown",
   "metadata": {},
   "source": [
    "***append()***\n",
    "\n",
    "Este método adiciona um item ao final da lista.\n",
    "\n",
    "Exemplo:"
   ]
  },
  {
   "cell_type": "code",
   "execution_count": null,
   "metadata": {},
   "outputs": [],
   "source": [
    "lista = [1, 2, 3]\n",
    "lista.append(4)\n",
    "print(lista)  # Imprime [1, 2, 3, 4]\n"
   ]
  },
  {
   "cell_type": "markdown",
   "metadata": {},
   "source": [
    "***remove()***\n",
    "\n",
    "Este método remove o primeiro item da lista cujo valor é igual ao valor fornecido.\n",
    "\n",
    "Se o item não for encontrado, ele gera um erro. \n",
    "\n",
    "Exemplo:"
   ]
  },
  {
   "cell_type": "code",
   "execution_count": null,
   "metadata": {},
   "outputs": [],
   "source": [
    "lista = [1, 2, 3, 2]\n",
    "lista.remove(2)\n",
    "print(lista)  # Imprime [1, 3, 2]\n"
   ]
  },
  {
   "cell_type": "markdown",
   "metadata": {},
   "source": [
    "***sort()***\n",
    "\n",
    "Este método classifica os itens da lista em ordem crescente.\n",
    "\n",
    "Para classificar em ordem decrescente, você pode passar o argumento reverse=True\n",
    "\n",
    "Exemplo"
   ]
  },
  {
   "cell_type": "code",
   "execution_count": null,
   "metadata": {},
   "outputs": [],
   "source": [
    "lista = [2, 1, 4, 3]\n",
    "lista.sort()\n",
    "print(lista)  # Imprime [1, 2, 3, 4]\n"
   ]
  },
  {
   "cell_type": "markdown",
   "metadata": {},
   "source": [
    "***extend()***\n",
    "\n",
    "Este método adiciona os elementos de uma lista (ou qualquer iterável) ao final da lista atual.\n",
    "\n",
    "Exemplo:"
   ]
  },
  {
   "cell_type": "code",
   "execution_count": null,
   "metadata": {},
   "outputs": [],
   "source": [
    "lista1 = [1, 2, 3]\n",
    "lista2 = [4, 5, 6]\n",
    "lista1.extend(lista2)\n",
    "print(lista1)  # Imprime [1, 2, 3, 4, 5, 6]"
   ]
  },
  {
   "cell_type": "markdown",
   "metadata": {},
   "source": [
    "***pop()***\n",
    "\n",
    "Este método remove o item no índice fornecido e o retorna. Se nenhum índice for especificado, ele remove e retorna o último item na lista. \n",
    "\n",
    "Exemplo:"
   ]
  },
  {
   "cell_type": "code",
   "execution_count": null,
   "metadata": {},
   "outputs": [],
   "source": [
    "lista = [1, 2, 3, 4, 5]\n",
    "item = lista.pop(1)\n",
    "print(item)  # Imprime 2\n",
    "print(lista)  # Imprime [1, 3, 4, 5]"
   ]
  },
  {
   "cell_type": "markdown",
   "metadata": {},
   "source": []
  },
  {
   "cell_type": "markdown",
   "metadata": {},
   "source": []
  },
  {
   "cell_type": "markdown",
   "metadata": {},
   "source": [
    "#### ***Tuplas*** ####\n",
    "\n",
    "\n",
    "Semelhante às listas, mas imutáveis. Quando e por que usar tuplas.\n"
   ]
  },
  {
   "cell_type": "markdown",
   "metadata": {},
   "source": [
    "\n",
    "***Dicionários***\n",
    "\n",
    "Pares chave-valor para armazenar dados. Como criar, acessar e modificar dicionários.\n"
   ]
  },
  {
   "cell_type": "markdown",
   "metadata": {},
   "source": [
    "\n",
    "***Conjuntos***\n",
    "\n",
    "Coleção não ordenada de itens únicos. Como criar conjuntos e usar operações de conjunto.\n"
   ]
  },
  {
   "cell_type": "markdown",
   "metadata": {},
   "source": [
    "\n"
   ]
  },
  {
   "cell_type": "markdown",
   "metadata": {},
   "source": [
    "### Programação Orientada a Objetos ###\n"
   ]
  },
  {
   "cell_type": "markdown",
   "metadata": {},
   "source": [
    "\n",
    "***Classes e objetos***\n",
    "\n",
    "Como definir classes e criar objetos.\n"
   ]
  },
  {
   "cell_type": "markdown",
   "metadata": {},
   "source": [
    "\n",
    "***Herança***\n",
    "\n",
    "Como uma classe pode herdar de outra classe, superando e estendendo métodos.\n"
   ]
  },
  {
   "cell_type": "markdown",
   "metadata": {},
   "source": [
    "***Polimorfismo***\n",
    "\n",
    "Como diferentes classes podem ser usadas de maneira intercambiável."
   ]
  },
  {
   "cell_type": "markdown",
   "metadata": {},
   "source": [
    "### Manipulação de Arquivos ###\n"
   ]
  },
  {
   "cell_type": "markdown",
   "metadata": {},
   "source": [
    "\n",
    "***Leitura e escrita de arquivos***\n",
    "\n",
    "Como abrir arquivos, ler seu conteúdo e escrever neles.\n"
   ]
  },
  {
   "cell_type": "markdown",
   "metadata": {},
   "source": [
    "\n",
    "***Trabalhando com arquivos JSON***\n",
    "\n",
    "Como ler e escrever dados JSON em um arquivo."
   ]
  },
  {
   "cell_type": "markdown",
   "metadata": {},
   "source": [
    "### Bibliotecas Python ###\n"
   ]
  },
  {
   "cell_type": "markdown",
   "metadata": {},
   "source": [
    "\n",
    "***Importando módulos***\n",
    "\n",
    "Como importar módulos e usar suas funções e classes.\n"
   ]
  },
  {
   "cell_type": "markdown",
   "metadata": {},
   "source": [
    "\n",
    "***Algumas bibliotecas padrão***\n",
    "\n",
    "Uma visão geral de algumas bibliotecas padrão, como math, datetime.\n"
   ]
  },
  {
   "cell_type": "markdown",
   "metadata": {},
   "source": [
    "\n",
    "***Instalação e uso de pacotes externos***\n",
    "\n",
    "Como usar o pip para instalar pacotes de terceiros.\n"
   ]
  }
 ],
 "metadata": {
  "kernelspec": {
   "display_name": "Python 3",
   "language": "python",
   "name": "python3"
  },
  "language_info": {
   "codemirror_mode": {
    "name": "ipython",
    "version": 3
   },
   "file_extension": ".py",
   "mimetype": "text/x-python",
   "name": "python",
   "nbconvert_exporter": "python",
   "pygments_lexer": "ipython3",
   "version": "3.10.7"
  }
 },
 "nbformat": 4,
 "nbformat_minor": 2
}
